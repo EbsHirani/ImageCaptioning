{
  "nbformat": 4,
  "nbformat_minor": 0,
  "metadata": {
    "colab": {
      "name": "ImageCapLoader.ipynb",
      "provenance": []
    },
    "kernelspec": {
      "name": "python3",
      "display_name": "Python 3"
    }
  },
  "cells": [
    {
      "cell_type": "code",
      "metadata": {
        "id": "ysbY8UXZTRmo",
        "colab_type": "code",
        "colab": {}
      },
      "source": [
        "import os\n",
        "os.chdir(\"Data/datasets/hsankesara/flickr-image-dataset\")"
      ],
      "execution_count": 0,
      "outputs": []
    },
    {
      "cell_type": "code",
      "metadata": {
        "id": "fKaqc_h3TTSz",
        "colab_type": "code",
        "colab": {}
      },
      "source": [
        "!unzip *.zip"
      ],
      "execution_count": 0,
      "outputs": []
    },
    {
      "cell_type": "code",
      "metadata": {
        "id": "tLvZYwpLTVBq",
        "colab_type": "code",
        "colab": {}
      },
      "source": [
        "os.chdir(\"flickr30k_images/flickr30k_images\")"
      ],
      "execution_count": 0,
      "outputs": []
    },
    {
      "cell_type": "code",
      "metadata": {
        "id": "G_i_oEMOU4C6",
        "colab_type": "code",
        "colab": {}
      },
      "source": [
        "import pandas as pd\n",
        "import numpy as np\n",
        "df = pd.read_csv(\"results.csv\",delimiter='|')"
      ],
      "execution_count": 0,
      "outputs": []
    },
    {
      "cell_type": "code",
      "metadata": {
        "id": "5kiprMOWVk5-",
        "colab_type": "code",
        "colab": {
          "base_uri": "https://localhost:8080/",
          "height": 35
        },
        "outputId": "d4bc48a8-e9c7-4187-9901-60f907f472a5"
      },
      "source": [
        "df.tail()\n",
        "df.columns"
      ],
      "execution_count": 7,
      "outputs": [
        {
          "output_type": "execute_result",
          "data": {
            "text/plain": [
              "Index(['image_name', ' comment_number', ' comment'], dtype='object')"
            ]
          },
          "metadata": {
            "tags": []
          },
          "execution_count": 7
        }
      ]
    },
    {
      "cell_type": "code",
      "metadata": {
        "id": "V6qJ8AqebwT3",
        "colab_type": "code",
        "colab": {
          "base_uri": "https://localhost:8080/",
          "height": 202
        },
        "outputId": "319cbb76-f470-4907-a8bf-82898983d42f"
      },
      "source": [
        "df[\"image_name\"] = df[\"image_name\"].apply(lambda x : \"flickr30k_images/\" + x)\n",
        "df.head()"
      ],
      "execution_count": 5,
      "outputs": [
        {
          "output_type": "execute_result",
          "data": {
            "text/html": [
              "<div>\n",
              "<style scoped>\n",
              "    .dataframe tbody tr th:only-of-type {\n",
              "        vertical-align: middle;\n",
              "    }\n",
              "\n",
              "    .dataframe tbody tr th {\n",
              "        vertical-align: top;\n",
              "    }\n",
              "\n",
              "    .dataframe thead th {\n",
              "        text-align: right;\n",
              "    }\n",
              "</style>\n",
              "<table border=\"1\" class=\"dataframe\">\n",
              "  <thead>\n",
              "    <tr style=\"text-align: right;\">\n",
              "      <th></th>\n",
              "      <th>image_name</th>\n",
              "      <th>comment_number</th>\n",
              "      <th>comment</th>\n",
              "    </tr>\n",
              "  </thead>\n",
              "  <tbody>\n",
              "    <tr>\n",
              "      <th>0</th>\n",
              "      <td>flickr30k_images/1000092795.jpg</td>\n",
              "      <td>0</td>\n",
              "      <td>Two young guys with shaggy hair look at their...</td>\n",
              "    </tr>\n",
              "    <tr>\n",
              "      <th>1</th>\n",
              "      <td>flickr30k_images/1000092795.jpg</td>\n",
              "      <td>1</td>\n",
              "      <td>Two young , White males are outside near many...</td>\n",
              "    </tr>\n",
              "    <tr>\n",
              "      <th>2</th>\n",
              "      <td>flickr30k_images/1000092795.jpg</td>\n",
              "      <td>2</td>\n",
              "      <td>Two men in green shirts are standing in a yard .</td>\n",
              "    </tr>\n",
              "    <tr>\n",
              "      <th>3</th>\n",
              "      <td>flickr30k_images/1000092795.jpg</td>\n",
              "      <td>3</td>\n",
              "      <td>A man in a blue shirt standing in a garden .</td>\n",
              "    </tr>\n",
              "    <tr>\n",
              "      <th>4</th>\n",
              "      <td>flickr30k_images/1000092795.jpg</td>\n",
              "      <td>4</td>\n",
              "      <td>Two friends enjoy time spent together .</td>\n",
              "    </tr>\n",
              "  </tbody>\n",
              "</table>\n",
              "</div>"
            ],
            "text/plain": [
              "                        image_name  ...                                            comment\n",
              "0  flickr30k_images/1000092795.jpg  ...   Two young guys with shaggy hair look at their...\n",
              "1  flickr30k_images/1000092795.jpg  ...   Two young , White males are outside near many...\n",
              "2  flickr30k_images/1000092795.jpg  ...   Two men in green shirts are standing in a yard .\n",
              "3  flickr30k_images/1000092795.jpg  ...       A man in a blue shirt standing in a garden .\n",
              "4  flickr30k_images/1000092795.jpg  ...            Two friends enjoy time spent together .\n",
              "\n",
              "[5 rows x 3 columns]"
            ]
          },
          "metadata": {
            "tags": []
          },
          "execution_count": 5
        }
      ]
    },
    {
      "cell_type": "code",
      "metadata": {
        "id": "EkMOGy8cchqz",
        "colab_type": "code",
        "colab": {}
      },
      "source": [
        "from keras.preprocessing.image import load_img\n",
        "from keras.preprocessing.image import img_to_array\n",
        "from keras.preprocessing.image import array_to_img\n",
        "from numpy import save\n",
        "\n",
        "def read_image(file_path):\n",
        "    img = img_to_array(load_img(file_path,target_size = (224,224)))\n",
        "\n",
        "    return img\n",
        "def prep_data(images):\n",
        "    count = len(images)\n",
        "    data = np.ndarray((count, 224, 224,3), dtype=np.float32)\n",
        "\n",
        "    for i, image_file in enumerate(images):\n",
        "        image = read_image(image_file)\n",
        "        data[i] = image\n",
        "    return data\n",
        "for i in range(0,150000, 15000):\n",
        "  image_array = prep_data(df[\"image_name\"].values[i:i+15000])\n",
        "  captions = df[\" comment\"].values[i:i+15000]\n",
        "  from numpy import save\n",
        "  save(f\"/content/drive/My Drive/ImageCaption/images{i}.npy\",image_array)\n",
        "  save(f\"/content/drive/My Drive/ImageCaption/captions{i}.npy\", captions)\n",
        "  del image_array\n",
        "  del captions"
      ],
      "execution_count": 0,
      "outputs": []
    }
  ]
}